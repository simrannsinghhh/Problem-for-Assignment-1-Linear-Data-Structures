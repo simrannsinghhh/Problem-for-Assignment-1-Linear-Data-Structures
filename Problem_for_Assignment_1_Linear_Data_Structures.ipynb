{
  "nbformat": 4,
  "nbformat_minor": 0,
  "metadata": {
    "colab": {
      "provenance": []
    },
    "kernelspec": {
      "name": "python3",
      "display_name": "Python 3"
    },
    "language_info": {
      "name": "python"
    }
  },
  "cells": [
    {
      "cell_type": "code",
      "execution_count": 1,
      "metadata": {
        "colab": {
          "base_uri": "https://localhost:8080/"
        },
        "id": "Q54xgcnaF9nf",
        "outputId": "90a26216-b15a-4b35-d209-92c69ce91866"
      },
      "outputs": [
        {
          "output_type": "stream",
          "name": "stdout",
          "text": [
            "[(6, 4), (1, 9), (7, 3)]\n"
          ]
        }
      ],
      "source": [
        "# Q.1. Write a program to find all pairs of an integer array whose sum is equal to a given number?\n",
        "def find_pairs_with_sum(arr, target_sum):\n",
        "    pairs = []\n",
        "    seen = set()\n",
        "\n",
        "    for num in arr:\n",
        "        complement = target_sum - num\n",
        "        if complement in seen:\n",
        "            pairs.append((num, complement))\n",
        "        seen.add(num)\n",
        "\n",
        "    return pairs\n",
        "\n",
        "arr = [2, 4, 3, 6, 9, 1, 5, 7]\n",
        "target_sum = 10\n",
        "result = find_pairs_with_sum(arr, target_sum)\n",
        "print(result)\n"
      ]
    },
    {
      "cell_type": "code",
      "source": [
        "# Q.2. Write a program to reverse an array in place? In place means you cannot create a new array. You have to update the original array.\n",
        "\n",
        "def reverse_array(arr):\n",
        "    left, right = 0, len(arr) - 1\n",
        "\n",
        "    while left < right:\n",
        "        arr[left], arr[right] = arr[right], arr[left]\n",
        "        left += 1\n",
        "        right -= 1\n",
        "\n",
        "arr = [1, 2, 3, 4, 5]\n",
        "reverse_array(arr)\n",
        "print(arr)\n"
      ],
      "metadata": {
        "colab": {
          "base_uri": "https://localhost:8080/"
        },
        "id": "vq6QS3rgGA7f",
        "outputId": "7bdc5e40-b4ae-4537-9d95-e92c448862b8"
      },
      "execution_count": 2,
      "outputs": [
        {
          "output_type": "stream",
          "name": "stdout",
          "text": [
            "[5, 4, 3, 2, 1]\n"
          ]
        }
      ]
    },
    {
      "cell_type": "code",
      "source": [
        "# Q3. Write a program to check if two strings are a rotation of each other?\n",
        "\n",
        "def are_strings_rotation(str1, str2):\n",
        "    if len(str1) != len(str2):\n",
        "        return False\n",
        "    combined_str = str1 + str1\n",
        "    return str2 in combined_str\n",
        "\n",
        "# Example usage:\n",
        "string1 = \"abcd\"\n",
        "string2 = \"cdab\"\n",
        "print(are_strings_rotation(string1, string2))\n"
      ],
      "metadata": {
        "colab": {
          "base_uri": "https://localhost:8080/"
        },
        "id": "AB3xmY-gGA--",
        "outputId": "25018fd6-81a8-480b-ebee-2bf610988c33"
      },
      "execution_count": 3,
      "outputs": [
        {
          "output_type": "stream",
          "name": "stdout",
          "text": [
            "True\n"
          ]
        }
      ]
    },
    {
      "cell_type": "code",
      "source": [
        "# Q4. Write a program to print the first non-repeated character from a string?\n",
        "\n",
        "def first_non_repeated_char(string):\n",
        "    char_count = {}\n",
        "\n",
        "    for char in string:\n",
        "        if char in char_count:\n",
        "            char_count[char] += 1\n",
        "        else:\n",
        "            char_count[char] = 1\n",
        "\n",
        "    for char in string:\n",
        "        if char_count[char] == 1:\n",
        "            return char\n",
        "\n",
        "    return None\n",
        "\n",
        "input_string = \"Edyoda\"\n",
        "result = first_non_repeated_char(input_string)\n",
        "print(\"First non-repeated character:\", result)\n"
      ],
      "metadata": {
        "colab": {
          "base_uri": "https://localhost:8080/"
        },
        "id": "h2j1xCD_GBEA",
        "outputId": "e432ad2b-fea5-4f02-8caf-155dcfc11c39"
      },
      "execution_count": 5,
      "outputs": [
        {
          "output_type": "stream",
          "name": "stdout",
          "text": [
            "First non-repeated character: E\n"
          ]
        }
      ]
    },
    {
      "cell_type": "code",
      "source": [
        "# Q5. Read about the Tower of Hanoi algorithm. Write a program to implement it.\n",
        "\n",
        "def tower_of_hanoi(n, source, auxiliary, target):\n",
        "    if n == 1:\n",
        "        print(\"Move disk 1 from\", source, \"to\", target)\n",
        "        return\n",
        "    tower_of_hanoi(n-1, source, target, auxiliary)\n",
        "    print(\"Move disk\", n, \"from\", source, \"to\", target)\n",
        "    tower_of_hanoi(n-1, auxiliary, source, target)\n",
        "\n",
        "# Example usage:\n",
        "n = 3  # Number of disks\n",
        "tower_of_hanoi(n, 'A', 'B', 'C')\n"
      ],
      "metadata": {
        "colab": {
          "base_uri": "https://localhost:8080/"
        },
        "id": "aVLxwcLNPHj2",
        "outputId": "f14f5e03-faf0-42db-ffe9-59254f7e1891"
      },
      "execution_count": 6,
      "outputs": [
        {
          "output_type": "stream",
          "name": "stdout",
          "text": [
            "Move disk 1 from A to C\n",
            "Move disk 2 from A to B\n",
            "Move disk 1 from C to B\n",
            "Move disk 3 from A to C\n",
            "Move disk 1 from B to A\n",
            "Move disk 2 from B to C\n",
            "Move disk 1 from A to C\n"
          ]
        }
      ]
    },
    {
      "cell_type": "code",
      "source": [
        "# Q6. Read about infix, prefix, and postfix expressions. Write a program to convert postfix to prefix expression.\n",
        "\n",
        "def postfix_to_prefix(postfix):\n",
        "    stack = []\n",
        "\n",
        "    for char in postfix:\n",
        "        if char.isalnum():\n",
        "            stack.append(char)\n",
        "        else:\n",
        "            operand2 = stack.pop()\n",
        "            operand1 = stack.pop()\n",
        "            expression = char + operand1 + operand2\n",
        "            stack.append(expression)\n",
        "\n",
        "    return stack[0]\n",
        "\n",
        "# Example usage:\n",
        "postfix_expression = \"ab+cd-*\"\n",
        "prefix_expression = postfix_to_prefix(postfix_expression)\n",
        "print(\"Prefix expression:\", prefix_expression)\n",
        "\n"
      ],
      "metadata": {
        "colab": {
          "base_uri": "https://localhost:8080/"
        },
        "id": "nlh6h0ZWPHe6",
        "outputId": "4d944759-d899-4161-ab08-8595ec149496"
      },
      "execution_count": 7,
      "outputs": [
        {
          "output_type": "stream",
          "name": "stdout",
          "text": [
            "Prefix expression: *+ab-cd\n"
          ]
        }
      ]
    },
    {
      "cell_type": "code",
      "source": [
        "# Q7. Write a program to convert prefix expression to infix expression.\n",
        "\n",
        "def is_operand(char):\n",
        "    return char.isalnum()\n",
        "\n",
        "def prefix_to_infix(prefix):\n",
        "    stack = []\n",
        "\n",
        "    for char in reversed(prefix):\n",
        "        if is_operand(char):\n",
        "            stack.append(char)\n",
        "        else:\n",
        "            operand1 = stack.pop()\n",
        "            operand2 = stack.pop()\n",
        "            expression = \"(\" + operand1 + char + operand2 + \")\"\n",
        "            stack.append(expression)\n",
        "\n",
        "    return stack[0]\n",
        "\n",
        "# Example usage:\n",
        "prefix_expression = \"*+ab-cd\"\n",
        "infix_expression = prefix_to_infix(prefix_expression)\n",
        "print(\"Infix expression:\", infix_expression)\n"
      ],
      "metadata": {
        "colab": {
          "base_uri": "https://localhost:8080/"
        },
        "id": "gHmReUp9PHaw",
        "outputId": "f9d8c90d-bf12-463f-a6e3-da211c701782"
      },
      "execution_count": 8,
      "outputs": [
        {
          "output_type": "stream",
          "name": "stdout",
          "text": [
            "Infix expression: ((a+b)*(c-d))\n"
          ]
        }
      ]
    },
    {
      "cell_type": "code",
      "source": [
        "# Q8. Write a program to check if all the brackets are closed in a given code snippet.\n",
        "def are_brackets_balanced(code):\n",
        "    stack = []\n",
        "    bracket_pairs = {')': '(', '}': '{', ']': '['}\n",
        "\n",
        "    for char in code:\n",
        "        if char in bracket_pairs.values():\n",
        "            stack.append(char)\n",
        "        elif char in bracket_pairs.keys():\n",
        "            if not stack or stack.pop() != bracket_pairs[char]:\n",
        "                return False\n",
        "\n",
        "    return not stack\n",
        "\n",
        "code_snippet = \"{[()]}\"\n",
        "result = are_brackets_balanced(code_snippet)\n",
        "print(\"Brackets are balanced:\", result)\n",
        "\n"
      ],
      "metadata": {
        "colab": {
          "base_uri": "https://localhost:8080/"
        },
        "id": "E8823vq4V_8S",
        "outputId": "68166287-0bda-4542-d732-98d152523e48"
      },
      "execution_count": 9,
      "outputs": [
        {
          "output_type": "stream",
          "name": "stdout",
          "text": [
            "Brackets are balanced: True\n"
          ]
        }
      ]
    },
    {
      "cell_type": "code",
      "source": [
        "# Q9. Write a program to reverse a stack.\n",
        "\n",
        "def reverse_stack(stack):\n",
        "    if not stack:\n",
        "        return\n",
        "    temp = stack.pop()\n",
        "    reverse_stack(stack)\n",
        "    insert_at_bottom(stack, temp)\n",
        "\n",
        "def insert_at_bottom(stack, item):\n",
        "    if not stack:\n",
        "        stack.append(item)\n",
        "        return\n",
        "    temp = stack.pop()\n",
        "    insert_at_bottom(stack, item)\n",
        "    stack.append(temp)\n",
        "\n",
        "# Example usage:\n",
        "stack = [1, 2, 3, 4, 5]\n",
        "reverse_stack(stack)\n",
        "print(\"Reversed stack:\", stack)\n"
      ],
      "metadata": {
        "colab": {
          "base_uri": "https://localhost:8080/"
        },
        "id": "aVv0VbypXrJ7",
        "outputId": "a5e16197-1943-4b2b-a542-82dd2ea66db2"
      },
      "execution_count": 16,
      "outputs": [
        {
          "output_type": "stream",
          "name": "stdout",
          "text": [
            "Reversed stack: [5, 4, 3, 2, 1]\n"
          ]
        }
      ]
    },
    {
      "cell_type": "code",
      "source": [
        "# Q10. Write a program to find the smallest number using a stack.\n",
        "\n",
        "class MinStack:\n",
        "    def __init__(self):\n",
        "        self.stack = []\n",
        "        self.min_stack = []\n",
        "\n",
        "    def push(self, x):\n",
        "        self.stack.append(x)\n",
        "        if not self.min_stack or x <= self.min_stack[-1]:\n",
        "            self.min_stack.append(x)\n",
        "\n",
        "    def pop(self):\n",
        "        if self.stack:\n",
        "            if self.stack[-1] == self.min_stack[-1]:\n",
        "                self.min_stack.pop()\n",
        "            self.stack.pop()\n",
        "\n",
        "    def top(self):\n",
        "        return self.stack[-1] if self.stack else None\n",
        "\n",
        "    def get_min(self):\n",
        "        return self.min_stack[-1] if self.min_stack else None\n",
        "\n",
        "# Example usage:\n",
        "stack = MinStack()\n",
        "stack.push(3)\n",
        "stack.push(5)\n",
        "stack.push(2)\n",
        "stack.push(1)\n",
        "print(\"Minimum element:\", stack.get_min())  # Output should be 1\n",
        "stack.pop()\n",
        "stack.pop()\n",
        "print(\"Minimum element:\", stack.get_min())  # Output should be 3\n"
      ],
      "metadata": {
        "colab": {
          "base_uri": "https://localhost:8080/"
        },
        "id": "CpTzLDs3PHD5",
        "outputId": "347e28e8-b14f-48b6-e214-abea0c28e2ea"
      },
      "execution_count": 17,
      "outputs": [
        {
          "output_type": "stream",
          "name": "stdout",
          "text": [
            "Minimum element: 1\n",
            "Minimum element: 3\n"
          ]
        }
      ]
    },
    {
      "cell_type": "code",
      "source": [],
      "metadata": {
        "id": "zJkF05gXGBJN"
      },
      "execution_count": null,
      "outputs": []
    }
  ]
}